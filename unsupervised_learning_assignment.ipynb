{
 "cells": [
  {
   "cell_type": "markdown",
   "metadata": {},
   "source": [
    "Unsupervised Learning\n",
    "===="
   ]
  },
  {
   "cell_type": "markdown",
   "metadata": {},
   "source": [
    "The customer segments data is included as a selection of 440 data points collected on data found from clients of a wholesale distributor in Lisbon, Portugal. More information can be found on the UCI Machine Learning Repository.\n",
    "\n",
    "Note (m.u.) is shorthand for monetary units.\n",
    "\n",
    "Features:\n",
    "- 1) Fresh: annual spending (m.u.) on fresh products (Continuous)\n",
    "- 2) Milk: annual spending (m.u.) on milk products (Continuous)\n",
    "- 3) Grocery: annual spending (m.u.) on grocery products (Continuous)\n",
    "- 4) Frozen: annual spending (m.u.) on frozen products (Continuous)\n",
    "- 5) Detergents_Paper: annual spending (m.u.) on detergents and paper - products (Continuous)\n",
    "- 6) Delicatessen: annual spending (m.u.) on and delicatessen products (Continuous)\n",
    "- 7) Channel: {Hotel/Restaurant/Cafe - 1, Retail - 2} (Nominal)\n",
    "- 8) Region: {Lisbon - 1, Oporto - 2, or Other - 3} (Nominal)"
   ]
  },
  {
   "cell_type": "markdown",
   "metadata": {},
   "source": [
    "In this project, you will analyze a dataset containing data on various customers' annual spending amounts (reported in monetary units) of diverse product categories for internal structure. One goal of this project is to best describe the variation in the different types of customers that a wholesale distributor interacts with."
   ]
  },
  {
   "cell_type": "markdown",
   "metadata": {},
   "source": [
    "## Getting Started"
   ]
  },
  {
   "cell_type": "code",
   "execution_count": 1,
   "metadata": {},
   "outputs": [],
   "source": [
    "# Import necessary libraries: pandas, numpy, matplotlib, seaborn\n",
    "# Your code here\n",
    "import pandas as pd\n",
    "import matplotlib.pyplot as plt\n",
    "import numpy as np\n",
    "import seaborn as sns"
   ]
  },
  {
   "cell_type": "code",
   "execution_count": 2,
   "metadata": {},
   "outputs": [],
   "source": [
    "# Read dataset\n",
    "# For the purposes of this project, the features 'Channel' and 'Region' will be excluded in the analysis — \n",
    "# with focus instead on the six product categories recorded for customers.\n",
    "\n",
    "# import dataset\n",
    "data = pd.read_csv('./customers.csv')\n",
    "# drop columns Channel and Region\n",
    "data = data.drop(columns=['Channel', 'Region'])"
   ]
  },
  {
   "cell_type": "markdown",
   "metadata": {},
   "source": [
    "## Data Exploration"
   ]
  },
  {
   "cell_type": "code",
   "execution_count": 3,
   "metadata": {},
   "outputs": [
    {
     "data": {
      "text/html": [
       "<div>\n",
       "<style scoped>\n",
       "    .dataframe tbody tr th:only-of-type {\n",
       "        vertical-align: middle;\n",
       "    }\n",
       "\n",
       "    .dataframe tbody tr th {\n",
       "        vertical-align: top;\n",
       "    }\n",
       "\n",
       "    .dataframe thead th {\n",
       "        text-align: right;\n",
       "    }\n",
       "</style>\n",
       "<table border=\"1\" class=\"dataframe\">\n",
       "  <thead>\n",
       "    <tr style=\"text-align: right;\">\n",
       "      <th></th>\n",
       "      <th>Fresh</th>\n",
       "      <th>Milk</th>\n",
       "      <th>Grocery</th>\n",
       "      <th>Frozen</th>\n",
       "      <th>Detergents_Paper</th>\n",
       "      <th>Delicatessen</th>\n",
       "    </tr>\n",
       "  </thead>\n",
       "  <tbody>\n",
       "    <tr>\n",
       "      <th>0</th>\n",
       "      <td>12669</td>\n",
       "      <td>9656</td>\n",
       "      <td>7561</td>\n",
       "      <td>214</td>\n",
       "      <td>2674</td>\n",
       "      <td>1338</td>\n",
       "    </tr>\n",
       "    <tr>\n",
       "      <th>1</th>\n",
       "      <td>7057</td>\n",
       "      <td>9810</td>\n",
       "      <td>9568</td>\n",
       "      <td>1762</td>\n",
       "      <td>3293</td>\n",
       "      <td>1776</td>\n",
       "    </tr>\n",
       "    <tr>\n",
       "      <th>2</th>\n",
       "      <td>6353</td>\n",
       "      <td>8808</td>\n",
       "      <td>7684</td>\n",
       "      <td>2405</td>\n",
       "      <td>3516</td>\n",
       "      <td>7844</td>\n",
       "    </tr>\n",
       "    <tr>\n",
       "      <th>3</th>\n",
       "      <td>13265</td>\n",
       "      <td>1196</td>\n",
       "      <td>4221</td>\n",
       "      <td>6404</td>\n",
       "      <td>507</td>\n",
       "      <td>1788</td>\n",
       "    </tr>\n",
       "    <tr>\n",
       "      <th>4</th>\n",
       "      <td>22615</td>\n",
       "      <td>5410</td>\n",
       "      <td>7198</td>\n",
       "      <td>3915</td>\n",
       "      <td>1777</td>\n",
       "      <td>5185</td>\n",
       "    </tr>\n",
       "  </tbody>\n",
       "</table>\n",
       "</div>"
      ],
      "text/plain": [
       "   Fresh  Milk  Grocery  Frozen  Detergents_Paper  Delicatessen\n",
       "0  12669  9656     7561     214              2674          1338\n",
       "1   7057  9810     9568    1762              3293          1776\n",
       "2   6353  8808     7684    2405              3516          7844\n",
       "3  13265  1196     4221    6404               507          1788\n",
       "4  22615  5410     7198    3915              1777          5185"
      ]
     },
     "execution_count": 3,
     "metadata": {},
     "output_type": "execute_result"
    }
   ],
   "source": [
    "# Let's take a look at dataset\n",
    "# Your code here\n",
    "data.head(5)"
   ]
  },
  {
   "cell_type": "code",
   "execution_count": 4,
   "metadata": {},
   "outputs": [
    {
     "name": "stdout",
     "output_type": "stream",
     "text": [
      "<class 'pandas.core.frame.DataFrame'>\n",
      "RangeIndex: 440 entries, 0 to 439\n",
      "Data columns (total 6 columns):\n",
      "Fresh               440 non-null int64\n",
      "Milk                440 non-null int64\n",
      "Grocery             440 non-null int64\n",
      "Frozen              440 non-null int64\n",
      "Detergents_Paper    440 non-null int64\n",
      "Delicatessen        440 non-null int64\n",
      "dtypes: int64(6)\n",
      "memory usage: 20.7 KB\n"
     ]
    }
   ],
   "source": [
    "# How many observations are in this data set?\n",
    "# Is there any missing value?\n",
    "# Your code here\n",
    "data.info()"
   ]
  },
  {
   "cell_type": "code",
   "execution_count": 5,
   "metadata": {},
   "outputs": [
    {
     "data": {
      "text/html": [
       "<div>\n",
       "<style scoped>\n",
       "    .dataframe tbody tr th:only-of-type {\n",
       "        vertical-align: middle;\n",
       "    }\n",
       "\n",
       "    .dataframe tbody tr th {\n",
       "        vertical-align: top;\n",
       "    }\n",
       "\n",
       "    .dataframe thead th {\n",
       "        text-align: right;\n",
       "    }\n",
       "</style>\n",
       "<table border=\"1\" class=\"dataframe\">\n",
       "  <thead>\n",
       "    <tr style=\"text-align: right;\">\n",
       "      <th></th>\n",
       "      <th>Fresh</th>\n",
       "      <th>Milk</th>\n",
       "      <th>Grocery</th>\n",
       "      <th>Frozen</th>\n",
       "      <th>Detergents_Paper</th>\n",
       "      <th>Delicatessen</th>\n",
       "    </tr>\n",
       "  </thead>\n",
       "  <tbody>\n",
       "    <tr>\n",
       "      <th>count</th>\n",
       "      <td>440.000000</td>\n",
       "      <td>440.000000</td>\n",
       "      <td>440.000000</td>\n",
       "      <td>440.000000</td>\n",
       "      <td>440.000000</td>\n",
       "      <td>440.000000</td>\n",
       "    </tr>\n",
       "    <tr>\n",
       "      <th>mean</th>\n",
       "      <td>12000.297727</td>\n",
       "      <td>5796.265909</td>\n",
       "      <td>7951.277273</td>\n",
       "      <td>3071.931818</td>\n",
       "      <td>2881.493182</td>\n",
       "      <td>1524.870455</td>\n",
       "    </tr>\n",
       "    <tr>\n",
       "      <th>std</th>\n",
       "      <td>12647.328865</td>\n",
       "      <td>7380.377175</td>\n",
       "      <td>9503.162829</td>\n",
       "      <td>4854.673333</td>\n",
       "      <td>4767.854448</td>\n",
       "      <td>2820.105937</td>\n",
       "    </tr>\n",
       "    <tr>\n",
       "      <th>min</th>\n",
       "      <td>3.000000</td>\n",
       "      <td>55.000000</td>\n",
       "      <td>3.000000</td>\n",
       "      <td>25.000000</td>\n",
       "      <td>3.000000</td>\n",
       "      <td>3.000000</td>\n",
       "    </tr>\n",
       "    <tr>\n",
       "      <th>25%</th>\n",
       "      <td>3127.750000</td>\n",
       "      <td>1533.000000</td>\n",
       "      <td>2153.000000</td>\n",
       "      <td>742.250000</td>\n",
       "      <td>256.750000</td>\n",
       "      <td>408.250000</td>\n",
       "    </tr>\n",
       "    <tr>\n",
       "      <th>50%</th>\n",
       "      <td>8504.000000</td>\n",
       "      <td>3627.000000</td>\n",
       "      <td>4755.500000</td>\n",
       "      <td>1526.000000</td>\n",
       "      <td>816.500000</td>\n",
       "      <td>965.500000</td>\n",
       "    </tr>\n",
       "    <tr>\n",
       "      <th>75%</th>\n",
       "      <td>16933.750000</td>\n",
       "      <td>7190.250000</td>\n",
       "      <td>10655.750000</td>\n",
       "      <td>3554.250000</td>\n",
       "      <td>3922.000000</td>\n",
       "      <td>1820.250000</td>\n",
       "    </tr>\n",
       "    <tr>\n",
       "      <th>max</th>\n",
       "      <td>112151.000000</td>\n",
       "      <td>73498.000000</td>\n",
       "      <td>92780.000000</td>\n",
       "      <td>60869.000000</td>\n",
       "      <td>40827.000000</td>\n",
       "      <td>47943.000000</td>\n",
       "    </tr>\n",
       "  </tbody>\n",
       "</table>\n",
       "</div>"
      ],
      "text/plain": [
       "               Fresh          Milk       Grocery        Frozen  \\\n",
       "count     440.000000    440.000000    440.000000    440.000000   \n",
       "mean    12000.297727   5796.265909   7951.277273   3071.931818   \n",
       "std     12647.328865   7380.377175   9503.162829   4854.673333   \n",
       "min         3.000000     55.000000      3.000000     25.000000   \n",
       "25%      3127.750000   1533.000000   2153.000000    742.250000   \n",
       "50%      8504.000000   3627.000000   4755.500000   1526.000000   \n",
       "75%     16933.750000   7190.250000  10655.750000   3554.250000   \n",
       "max    112151.000000  73498.000000  92780.000000  60869.000000   \n",
       "\n",
       "       Detergents_Paper  Delicatessen  \n",
       "count        440.000000    440.000000  \n",
       "mean        2881.493182   1524.870455  \n",
       "std         4767.854448   2820.105937  \n",
       "min            3.000000      3.000000  \n",
       "25%          256.750000    408.250000  \n",
       "50%          816.500000    965.500000  \n",
       "75%         3922.000000   1820.250000  \n",
       "max        40827.000000  47943.000000  "
      ]
     },
     "execution_count": 5,
     "metadata": {},
     "output_type": "execute_result"
    }
   ],
   "source": [
    "#descriptive statistics of the dataset\n",
    "# Your code here\n",
    "data.describe()"
   ]
  },
  {
   "cell_type": "markdown",
   "metadata": {},
   "source": [
    "### Visualization: Purchase Behavior"
   ]
  },
  {
   "cell_type": "code",
   "execution_count": 6,
   "metadata": {},
   "outputs": [
    {
     "data": {
      "text/plain": [
       "<matplotlib.axes._subplots.AxesSubplot at 0xe4b5e12278>"
      ]
     },
     "execution_count": 6,
     "metadata": {},
     "output_type": "execute_result"
    },
    {
     "data": {
      "image/png": "[encoded data removed]",
      "text/plain": [
       "<Figure size 432x288 with 1 Axes>"
      ]
     },
     "metadata": {
      "needs_background": "light"
     },
     "output_type": "display_data"
    }
   ],
   "source": [
    "# The dataset is composed of six important product categories: \n",
    "# 'Fresh', 'Milk', 'Grocery', 'Frozen', 'Detergents_Paper', and 'Delicatessen'. \n",
    "# Consider what each category represents in terms of products you could purchase.\n",
    "\n",
    "# Plot total purchases on each product categories\n",
    "# Your code here\n",
    "import pandas as pd\n",
    "import matplotlib.pyplot as plt\n",
    "%matplotlib inline\n",
    "data = pd.read_csv('customers.csv')\n",
    "data = data.drop(columns=['Channel', 'Region'])\n",
    "data.sum().plot(kind='barh')"
   ]
  },
  {
   "cell_type": "markdown",
   "metadata": {},
   "source": [
    "#### What is distribution of Total Purchases of each person"
   ]
  },
  {
   "cell_type": "code",
   "execution_count": 7,
   "metadata": {},
   "outputs": [],
   "source": [
    "def percent(X):\n",
    "    for i in range(X.shape[0]):\n",
    "        a = np.sum(X, axis=1)[i]\n",
    "        for j in range(X.shape[1]):\n",
    "            X.values[i,j] = float(X.values[i,j]*100/a)\n",
    "    return X.head(5)"
   ]
  },
  {
   "cell_type": "code",
   "execution_count": 8,
   "metadata": {},
   "outputs": [
    {
     "data": {
      "text/html": [
       "<div>\n",
       "<style scoped>\n",
       "    .dataframe tbody tr th:only-of-type {\n",
       "        vertical-align: middle;\n",
       "    }\n",
       "\n",
       "    .dataframe tbody tr th {\n",
       "        vertical-align: top;\n",
       "    }\n",
       "\n",
       "    .dataframe thead th {\n",
       "        text-align: right;\n",
       "    }\n",
       "</style>\n",
       "<table border=\"1\" class=\"dataframe\">\n",
       "  <thead>\n",
       "    <tr style=\"text-align: right;\">\n",
       "      <th></th>\n",
       "      <th>Fresh</th>\n",
       "      <th>Milk</th>\n",
       "      <th>Grocery</th>\n",
       "      <th>Frozen</th>\n",
       "      <th>Detergents_Paper</th>\n",
       "      <th>Delicatessen</th>\n",
       "    </tr>\n",
       "  </thead>\n",
       "  <tbody>\n",
       "    <tr>\n",
       "      <th>0</th>\n",
       "      <td>37.139423</td>\n",
       "      <td>28.306754</td>\n",
       "      <td>22.165220</td>\n",
       "      <td>0.627345</td>\n",
       "      <td>7.838884</td>\n",
       "      <td>3.922373</td>\n",
       "    </tr>\n",
       "    <tr>\n",
       "      <th>1</th>\n",
       "      <td>21.213852</td>\n",
       "      <td>29.489569</td>\n",
       "      <td>28.762099</td>\n",
       "      <td>5.296699</td>\n",
       "      <td>9.898996</td>\n",
       "      <td>5.338784</td>\n",
       "    </tr>\n",
       "    <tr>\n",
       "      <th>2</th>\n",
       "      <td>17.353182</td>\n",
       "      <td>24.059000</td>\n",
       "      <td>20.988801</td>\n",
       "      <td>6.569243</td>\n",
       "      <td>9.603933</td>\n",
       "      <td>21.425840</td>\n",
       "    </tr>\n",
       "    <tr>\n",
       "      <th>3</th>\n",
       "      <td>48.446003</td>\n",
       "      <td>4.367992</td>\n",
       "      <td>15.415799</td>\n",
       "      <td>23.388481</td>\n",
       "      <td>1.851649</td>\n",
       "      <td>6.530076</td>\n",
       "    </tr>\n",
       "    <tr>\n",
       "      <th>4</th>\n",
       "      <td>49.056399</td>\n",
       "      <td>11.735358</td>\n",
       "      <td>15.613883</td>\n",
       "      <td>8.492408</td>\n",
       "      <td>3.854664</td>\n",
       "      <td>11.247289</td>\n",
       "    </tr>\n",
       "  </tbody>\n",
       "</table>\n",
       "</div>"
      ],
      "text/plain": [
       "       Fresh       Milk    Grocery     Frozen  Detergents_Paper  Delicatessen\n",
       "0  37.139423  28.306754  22.165220   0.627345          7.838884      3.922373\n",
       "1  21.213852  29.489569  28.762099   5.296699          9.898996      5.338784\n",
       "2  17.353182  24.059000  20.988801   6.569243          9.603933     21.425840\n",
       "3  48.446003   4.367992  15.415799  23.388481          1.851649      6.530076\n",
       "4  49.056399  11.735358  15.613883   8.492408          3.854664     11.247289"
      ]
     },
     "execution_count": 8,
     "metadata": {},
     "output_type": "execute_result"
    }
   ],
   "source": [
    "# Calculate total purchases\n",
    "# Hint: sum by columns\n",
    "# Your code here\n",
    "# per_data = per_data.drop(columns=['Channel', 'Region'])\n",
    "percent_date = pd.read_csv('./customers.csv')\n",
    "percent_date = percent_date.drop(columns=['Channel', 'Region'])\n",
    "percent_date['Fresh'] = percent_date.Fresh.astype(float)\n",
    "percent_date['Milk'] = percent_date.Milk.astype(float)\n",
    "percent_date['Grocery'] = percent_date.Grocery.astype(float)\n",
    "percent_date['Frozen'] = percent_date.Frozen.astype(float)\n",
    "percent_date['Detergents_Paper'] = percent_date.Detergents_Paper.astype(float)\n",
    "percent_date['Delicatessen'] = percent_date.Delicatessen.astype(float)\n",
    "\n",
    "for i in range(percent_date.shape[0]):\n",
    "    a = np.sum(percent_date, axis=1)[i]\n",
    "    for j in range(percent_date.shape[1]):\n",
    "        percent_date.values[i,j] = float(percent_date.values[i,j]*100/a)\n",
    "percent_date.head()"
   ]
  },
  {
   "cell_type": "code",
   "execution_count": 9,
   "metadata": {},
   "outputs": [
    {
     "data": {
      "text/plain": [
       "440"
      ]
     },
     "execution_count": 9,
     "metadata": {},
     "output_type": "execute_result"
    }
   ],
   "source": [
    "# Number of row in dataset\n",
    "nrows = percent_date.shape[0]\n",
    "nrows"
   ]
  },
  {
   "cell_type": "markdown",
   "metadata": {},
   "source": [
    "#### create list index of 10% lowest spenders "
   ]
  },
  {
   "cell_type": "code",
   "execution_count": 10,
   "metadata": {},
   "outputs": [
    {
     "data": {
      "text/plain": [
       "Int64Index([154,  97,  98, 355, 131, 275, 327, 299, 352, 203, 184, 367,  34,\n",
       "            274, 364, 439, 362, 361, 219, 369, 344, 228, 151, 168, 320, 186,\n",
       "            206, 350, 375, 250, 392, 238, 378, 433, 359, 192, 290,  95, 391,\n",
       "            233, 204, 174, 280, 224],\n",
       "           dtype='int64')"
      ]
     },
     "execution_count": 10,
     "metadata": {},
     "output_type": "execute_result"
    }
   ],
   "source": [
    "data = pd.read_csv('./customers.csv')\n",
    "data = data.drop(columns=['Channel', 'Region'])\n",
    "data['Total'] = np.sum(data, axis=1).values\n",
    "data = data.sort_values('Total', ascending = True)\n",
    "select_lowest = data.head(44).index\n",
    "select_lowest"
   ]
  },
  {
   "cell_type": "markdown",
   "metadata": {},
   "source": [
    "#### create list index of 10% highest spenders."
   ]
  },
  {
   "cell_type": "code",
   "execution_count": 11,
   "metadata": {},
   "outputs": [
    {
     "data": {
      "text/plain": [
       "Int64Index([202,  24, 171, 165, 239,  45,  12, 201,  71, 163, 331, 196,  28,\n",
       "            282,  77, 319, 176, 216, 427, 259,  39,  49, 258, 435, 437,  87,\n",
       "            145,  56, 103,  65, 251,  92, 284, 125, 211,  23, 333, 325,  86,\n",
       "             61, 183, 181,  47,  85],\n",
       "           dtype='int64')"
      ]
     },
     "execution_count": 11,
     "metadata": {},
     "output_type": "execute_result"
    }
   ],
   "source": [
    "select_highest = data.tail(44).index\n",
    "select_highest"
   ]
  },
  {
   "cell_type": "markdown",
   "metadata": {},
   "source": [
    "#### how the 10% lowest spenders compare to the 10% highest spenders."
   ]
  },
  {
   "cell_type": "code",
   "execution_count": 12,
   "metadata": {},
   "outputs": [
    {
     "name": "stderr",
     "output_type": "stream",
     "text": [
      "E:\\Anaconda3\\lib\\site-packages\\ipykernel_launcher.py:2: SettingWithCopyWarning: \n",
      "A value is trying to be set on a copy of a slice from a DataFrame.\n",
      "Try using .loc[row_indexer,col_indexer] = value instead\n",
      "\n",
      "See the caveats in the documentation: http://pandas.pydata.org/pandas-docs/stable/indexing.html#indexing-view-versus-copy\n",
      "  \n"
     ]
    },
    {
     "data": {
      "text/html": [
       "<div>\n",
       "<style scoped>\n",
       "    .dataframe tbody tr th:only-of-type {\n",
       "        vertical-align: middle;\n",
       "    }\n",
       "\n",
       "    .dataframe tbody tr th {\n",
       "        vertical-align: top;\n",
       "    }\n",
       "\n",
       "    .dataframe thead th {\n",
       "        text-align: right;\n",
       "    }\n",
       "</style>\n",
       "<table border=\"1\" class=\"dataframe\">\n",
       "  <thead>\n",
       "    <tr style=\"text-align: right;\">\n",
       "      <th></th>\n",
       "      <th>Fresh</th>\n",
       "      <th>Milk</th>\n",
       "      <th>Grocery</th>\n",
       "      <th>Frozen</th>\n",
       "      <th>Detergents_Paper</th>\n",
       "      <th>Delicatessen</th>\n",
       "      <th>Total</th>\n",
       "      <th>Spending</th>\n",
       "    </tr>\n",
       "  </thead>\n",
       "  <tbody>\n",
       "    <tr>\n",
       "      <th>202</th>\n",
       "      <td>25203</td>\n",
       "      <td>11487</td>\n",
       "      <td>9490</td>\n",
       "      <td>5065</td>\n",
       "      <td>284</td>\n",
       "      <td>6854</td>\n",
       "      <td>58383</td>\n",
       "      <td>High</td>\n",
       "    </tr>\n",
       "    <tr>\n",
       "      <th>24</th>\n",
       "      <td>22647</td>\n",
       "      <td>9776</td>\n",
       "      <td>13792</td>\n",
       "      <td>2915</td>\n",
       "      <td>4482</td>\n",
       "      <td>5778</td>\n",
       "      <td>59390</td>\n",
       "      <td>High</td>\n",
       "    </tr>\n",
       "    <tr>\n",
       "      <th>171</th>\n",
       "      <td>200</td>\n",
       "      <td>25862</td>\n",
       "      <td>19816</td>\n",
       "      <td>651</td>\n",
       "      <td>8773</td>\n",
       "      <td>6250</td>\n",
       "      <td>61552</td>\n",
       "      <td>High</td>\n",
       "    </tr>\n",
       "    <tr>\n",
       "      <th>165</th>\n",
       "      <td>15615</td>\n",
       "      <td>12653</td>\n",
       "      <td>19858</td>\n",
       "      <td>4425</td>\n",
       "      <td>7108</td>\n",
       "      <td>2379</td>\n",
       "      <td>62038</td>\n",
       "      <td>High</td>\n",
       "    </tr>\n",
       "    <tr>\n",
       "      <th>239</th>\n",
       "      <td>47493</td>\n",
       "      <td>2567</td>\n",
       "      <td>3779</td>\n",
       "      <td>5243</td>\n",
       "      <td>828</td>\n",
       "      <td>2253</td>\n",
       "      <td>62163</td>\n",
       "      <td>High</td>\n",
       "    </tr>\n",
       "  </tbody>\n",
       "</table>\n",
       "</div>"
      ],
      "text/plain": [
       "     Fresh   Milk  Grocery  Frozen  Detergents_Paper  Delicatessen  Total  \\\n",
       "202  25203  11487     9490    5065               284          6854  58383   \n",
       "24   22647   9776    13792    2915              4482          5778  59390   \n",
       "171    200  25862    19816     651              8773          6250  61552   \n",
       "165  15615  12653    19858    4425              7108          2379  62038   \n",
       "239  47493   2567     3779    5243               828          2253  62163   \n",
       "\n",
       "    Spending  \n",
       "202     High  \n",
       "24      High  \n",
       "171     High  \n",
       "165     High  \n",
       "239     High  "
      ]
     },
     "execution_count": 12,
     "metadata": {},
     "output_type": "execute_result"
    }
   ],
   "source": [
    "high = data.tail(44)\n",
    "high['Spending'] = 'High'\n",
    "high.head(5)"
   ]
  },
  {
   "cell_type": "code",
   "execution_count": 13,
   "metadata": {},
   "outputs": [
    {
     "name": "stderr",
     "output_type": "stream",
     "text": [
      "E:\\Anaconda3\\lib\\site-packages\\ipykernel_launcher.py:3: SettingWithCopyWarning: \n",
      "A value is trying to be set on a copy of a slice from a DataFrame.\n",
      "Try using .loc[row_indexer,col_indexer] = value instead\n",
      "\n",
      "See the caveats in the documentation: http://pandas.pydata.org/pandas-docs/stable/indexing.html#indexing-view-versus-copy\n",
      "  This is separate from the ipykernel package so we can avoid doing imports until\n"
     ]
    },
    {
     "data": {
      "text/html": [
       "<div>\n",
       "<style scoped>\n",
       "    .dataframe tbody tr th:only-of-type {\n",
       "        vertical-align: middle;\n",
       "    }\n",
       "\n",
       "    .dataframe tbody tr th {\n",
       "        vertical-align: top;\n",
       "    }\n",
       "\n",
       "    .dataframe thead th {\n",
       "        text-align: right;\n",
       "    }\n",
       "</style>\n",
       "<table border=\"1\" class=\"dataframe\">\n",
       "  <thead>\n",
       "    <tr style=\"text-align: right;\">\n",
       "      <th></th>\n",
       "      <th>Fresh</th>\n",
       "      <th>Milk</th>\n",
       "      <th>Grocery</th>\n",
       "      <th>Frozen</th>\n",
       "      <th>Detergents_Paper</th>\n",
       "      <th>Delicatessen</th>\n",
       "      <th>Total</th>\n",
       "      <th>Spending</th>\n",
       "    </tr>\n",
       "  </thead>\n",
       "  <tbody>\n",
       "    <tr>\n",
       "      <th>154</th>\n",
       "      <td>622</td>\n",
       "      <td>55</td>\n",
       "      <td>137</td>\n",
       "      <td>75</td>\n",
       "      <td>7</td>\n",
       "      <td>8</td>\n",
       "      <td>904</td>\n",
       "      <td>Low</td>\n",
       "    </tr>\n",
       "    <tr>\n",
       "      <th>97</th>\n",
       "      <td>403</td>\n",
       "      <td>254</td>\n",
       "      <td>610</td>\n",
       "      <td>774</td>\n",
       "      <td>54</td>\n",
       "      <td>63</td>\n",
       "      <td>2158</td>\n",
       "      <td>Low</td>\n",
       "    </tr>\n",
       "    <tr>\n",
       "      <th>98</th>\n",
       "      <td>503</td>\n",
       "      <td>112</td>\n",
       "      <td>778</td>\n",
       "      <td>895</td>\n",
       "      <td>56</td>\n",
       "      <td>132</td>\n",
       "      <td>2476</td>\n",
       "      <td>Low</td>\n",
       "    </tr>\n",
       "    <tr>\n",
       "      <th>355</th>\n",
       "      <td>190</td>\n",
       "      <td>727</td>\n",
       "      <td>2012</td>\n",
       "      <td>245</td>\n",
       "      <td>184</td>\n",
       "      <td>127</td>\n",
       "      <td>3485</td>\n",
       "      <td>Low</td>\n",
       "    </tr>\n",
       "    <tr>\n",
       "      <th>131</th>\n",
       "      <td>2101</td>\n",
       "      <td>589</td>\n",
       "      <td>314</td>\n",
       "      <td>346</td>\n",
       "      <td>70</td>\n",
       "      <td>310</td>\n",
       "      <td>3730</td>\n",
       "      <td>Low</td>\n",
       "    </tr>\n",
       "  </tbody>\n",
       "</table>\n",
       "</div>"
      ],
      "text/plain": [
       "     Fresh  Milk  Grocery  Frozen  Detergents_Paper  Delicatessen  Total  \\\n",
       "154    622    55      137      75                 7             8    904   \n",
       "97     403   254      610     774                54            63   2158   \n",
       "98     503   112      778     895                56           132   2476   \n",
       "355    190   727     2012     245               184           127   3485   \n",
       "131   2101   589      314     346                70           310   3730   \n",
       "\n",
       "    Spending  \n",
       "154      Low  \n",
       "97       Low  \n",
       "98       Low  \n",
       "355      Low  \n",
       "131      Low  "
      ]
     },
     "execution_count": 13,
     "metadata": {},
     "output_type": "execute_result"
    }
   ],
   "source": [
    "# Using select_lowest index to select 10% lowest spenders \n",
    "lowest = data.head(44)\n",
    "lowest['Spending'] = 'Low'\n",
    "lowest.head(5)"
   ]
  },
  {
   "cell_type": "code",
   "execution_count": 14,
   "metadata": {},
   "outputs": [
    {
     "data": {
      "text/html": [
       "<div>\n",
       "<style scoped>\n",
       "    .dataframe tbody tr th:only-of-type {\n",
       "        vertical-align: middle;\n",
       "    }\n",
       "\n",
       "    .dataframe tbody tr th {\n",
       "        vertical-align: top;\n",
       "    }\n",
       "\n",
       "    .dataframe thead th {\n",
       "        text-align: right;\n",
       "    }\n",
       "</style>\n",
       "<table border=\"1\" class=\"dataframe\">\n",
       "  <thead>\n",
       "    <tr style=\"text-align: right;\">\n",
       "      <th></th>\n",
       "      <th>Fresh</th>\n",
       "      <th>Milk</th>\n",
       "      <th>Grocery</th>\n",
       "      <th>Frozen</th>\n",
       "      <th>Detergents_Paper</th>\n",
       "      <th>Delicatessen</th>\n",
       "      <th>Spending</th>\n",
       "    </tr>\n",
       "  </thead>\n",
       "  <tbody>\n",
       "    <tr>\n",
       "      <th>154</th>\n",
       "      <td>68.805310</td>\n",
       "      <td>6.084071</td>\n",
       "      <td>15.154867</td>\n",
       "      <td>8.296460</td>\n",
       "      <td>0.774336</td>\n",
       "      <td>0.884956</td>\n",
       "      <td>Low</td>\n",
       "    </tr>\n",
       "    <tr>\n",
       "      <th>97</th>\n",
       "      <td>18.674699</td>\n",
       "      <td>11.770158</td>\n",
       "      <td>28.266914</td>\n",
       "      <td>35.866543</td>\n",
       "      <td>2.502317</td>\n",
       "      <td>2.919370</td>\n",
       "      <td>Low</td>\n",
       "    </tr>\n",
       "    <tr>\n",
       "      <th>98</th>\n",
       "      <td>20.315024</td>\n",
       "      <td>4.523425</td>\n",
       "      <td>31.421648</td>\n",
       "      <td>36.147011</td>\n",
       "      <td>2.261712</td>\n",
       "      <td>5.331179</td>\n",
       "      <td>Low</td>\n",
       "    </tr>\n",
       "    <tr>\n",
       "      <th>355</th>\n",
       "      <td>5.451937</td>\n",
       "      <td>20.860832</td>\n",
       "      <td>57.733142</td>\n",
       "      <td>7.030129</td>\n",
       "      <td>5.279770</td>\n",
       "      <td>3.644189</td>\n",
       "      <td>Low</td>\n",
       "    </tr>\n",
       "    <tr>\n",
       "      <th>131</th>\n",
       "      <td>56.327078</td>\n",
       "      <td>15.790885</td>\n",
       "      <td>8.418231</td>\n",
       "      <td>9.276139</td>\n",
       "      <td>1.876676</td>\n",
       "      <td>8.310992</td>\n",
       "      <td>Low</td>\n",
       "    </tr>\n",
       "  </tbody>\n",
       "</table>\n",
       "</div>"
      ],
      "text/plain": [
       "         Fresh       Milk    Grocery     Frozen  Detergents_Paper  \\\n",
       "154  68.805310   6.084071  15.154867   8.296460          0.774336   \n",
       "97   18.674699  11.770158  28.266914  35.866543          2.502317   \n",
       "98   20.315024   4.523425  31.421648  36.147011          2.261712   \n",
       "355   5.451937  20.860832  57.733142   7.030129          5.279770   \n",
       "131  56.327078  15.790885   8.418231   9.276139          1.876676   \n",
       "\n",
       "     Delicatessen Spending  \n",
       "154      0.884956      Low  \n",
       "97       2.919370      Low  \n",
       "98       5.331179      Low  \n",
       "355      3.644189      Low  \n",
       "131      8.310992      Low  "
      ]
     },
     "execution_count": 14,
     "metadata": {},
     "output_type": "execute_result"
    }
   ],
   "source": [
    "lowest_a = data.head(44)\n",
    "lowest_a = lowest_a.drop(columns='Total')\n",
    "lowest_a['Fresh'] = lowest_a.Fresh.astype(float)\n",
    "lowest_a['Milk'] = lowest_a.Milk.astype(float)\n",
    "lowest_a['Grocery'] = lowest_a.Grocery.astype(float)\n",
    "lowest_a['Frozen'] = lowest_a.Frozen.astype(float)\n",
    "lowest_a['Detergents_Paper'] = lowest_a.Detergents_Paper.astype(float)\n",
    "lowest_a['Delicatessen'] = lowest_a.Delicatessen.astype(float)\n",
    "\n",
    "for i in range(lowest_a.shape[0]):\n",
    "    a = np.sum(lowest_a, axis=1)[lowest.index[i]]\n",
    "    for j in range(lowest_a.shape[1]):\n",
    "        lowest_a.values[i,j] = float(lowest_a.values[i,j]*100/a)\n",
    "lowest_a['Spending'] = 'Low'        \n",
    "lowest_a.head(5)"
   ]
  },
  {
   "cell_type": "code",
   "execution_count": 15,
   "metadata": {},
   "outputs": [
    {
     "data": {
      "text/html": [
       "<div>\n",
       "<style scoped>\n",
       "    .dataframe tbody tr th:only-of-type {\n",
       "        vertical-align: middle;\n",
       "    }\n",
       "\n",
       "    .dataframe tbody tr th {\n",
       "        vertical-align: top;\n",
       "    }\n",
       "\n",
       "    .dataframe thead th {\n",
       "        text-align: right;\n",
       "    }\n",
       "</style>\n",
       "<table border=\"1\" class=\"dataframe\">\n",
       "  <thead>\n",
       "    <tr style=\"text-align: right;\">\n",
       "      <th></th>\n",
       "      <th>Fresh</th>\n",
       "      <th>Milk</th>\n",
       "      <th>Grocery</th>\n",
       "      <th>Frozen</th>\n",
       "      <th>Detergents_Paper</th>\n",
       "      <th>Delicatessen</th>\n",
       "      <th>Spending</th>\n",
       "    </tr>\n",
       "  </thead>\n",
       "  <tbody>\n",
       "    <tr>\n",
       "      <th>202</th>\n",
       "      <td>43.168388</td>\n",
       "      <td>19.675248</td>\n",
       "      <td>16.254732</td>\n",
       "      <td>8.675471</td>\n",
       "      <td>0.486443</td>\n",
       "      <td>11.739719</td>\n",
       "      <td>High</td>\n",
       "    </tr>\n",
       "    <tr>\n",
       "      <th>24</th>\n",
       "      <td>38.132682</td>\n",
       "      <td>16.460684</td>\n",
       "      <td>23.222765</td>\n",
       "      <td>4.908234</td>\n",
       "      <td>7.546725</td>\n",
       "      <td>9.728911</td>\n",
       "      <td>High</td>\n",
       "    </tr>\n",
       "    <tr>\n",
       "      <th>171</th>\n",
       "      <td>0.324929</td>\n",
       "      <td>42.016506</td>\n",
       "      <td>32.193917</td>\n",
       "      <td>1.057642</td>\n",
       "      <td>14.252989</td>\n",
       "      <td>10.154016</td>\n",
       "      <td>High</td>\n",
       "    </tr>\n",
       "    <tr>\n",
       "      <th>165</th>\n",
       "      <td>25.170057</td>\n",
       "      <td>20.395564</td>\n",
       "      <td>32.009414</td>\n",
       "      <td>7.132725</td>\n",
       "      <td>11.457494</td>\n",
       "      <td>3.834746</td>\n",
       "      <td>High</td>\n",
       "    </tr>\n",
       "    <tr>\n",
       "      <th>239</th>\n",
       "      <td>76.400753</td>\n",
       "      <td>4.129466</td>\n",
       "      <td>6.079179</td>\n",
       "      <td>8.434278</td>\n",
       "      <td>1.331982</td>\n",
       "      <td>3.624342</td>\n",
       "      <td>High</td>\n",
       "    </tr>\n",
       "  </tbody>\n",
       "</table>\n",
       "</div>"
      ],
      "text/plain": [
       "         Fresh       Milk    Grocery    Frozen  Detergents_Paper  \\\n",
       "202  43.168388  19.675248  16.254732  8.675471          0.486443   \n",
       "24   38.132682  16.460684  23.222765  4.908234          7.546725   \n",
       "171   0.324929  42.016506  32.193917  1.057642         14.252989   \n",
       "165  25.170057  20.395564  32.009414  7.132725         11.457494   \n",
       "239  76.400753   4.129466   6.079179  8.434278          1.331982   \n",
       "\n",
       "     Delicatessen Spending  \n",
       "202     11.739719     High  \n",
       "24       9.728911     High  \n",
       "171     10.154016     High  \n",
       "165      3.834746     High  \n",
       "239      3.624342     High  "
      ]
     },
     "execution_count": 15,
     "metadata": {},
     "output_type": "execute_result"
    }
   ],
   "source": [
    "# Using select_highest index to select 10% highest spenders \n",
    "high_a = data.tail(44)\n",
    "high_a = high_a.drop(columns='Total')\n",
    "high_a['Fresh'] = high_a.Fresh.astype(float)\n",
    "high_a['Milk'] = high_a.Milk.astype(float)\n",
    "high_a['Grocery'] = high_a.Grocery.astype(float)\n",
    "high_a['Frozen'] = high_a.Frozen.astype(float)\n",
    "high_a['Detergents_Paper'] = high_a.Detergents_Paper.astype(float)\n",
    "high_a['Delicatessen'] = high_a.Delicatessen.astype(float)\n",
    "\n",
    "for i in range(high_a.shape[0]):\n",
    "    a = np.sum(high_a, axis=1)[high.index[i]]\n",
    "    for j in range(high_a.shape[1]):\n",
    "        high_a.values[i,j] = float(high_a.values[i,j]*100/a)\n",
    "high_a['Spending'] = 'High'\n",
    "high_a.head(5)"
   ]
  },
  {
   "cell_type": "code",
   "execution_count": 16,
   "metadata": {},
   "outputs": [
    {
     "data": {
      "text/html": [
       "<div>\n",
       "<style scoped>\n",
       "    .dataframe tbody tr th:only-of-type {\n",
       "        vertical-align: middle;\n",
       "    }\n",
       "\n",
       "    .dataframe tbody tr th {\n",
       "        vertical-align: top;\n",
       "    }\n",
       "\n",
       "    .dataframe thead th {\n",
       "        text-align: right;\n",
       "    }\n",
       "</style>\n",
       "<table border=\"1\" class=\"dataframe\">\n",
       "  <thead>\n",
       "    <tr style=\"text-align: right;\">\n",
       "      <th></th>\n",
       "      <th>Fresh</th>\n",
       "      <th>Milk</th>\n",
       "      <th>Grocery</th>\n",
       "      <th>Frozen</th>\n",
       "      <th>Detergents_Paper</th>\n",
       "      <th>Delicatessen</th>\n",
       "      <th>Spending</th>\n",
       "    </tr>\n",
       "  </thead>\n",
       "  <tbody>\n",
       "    <tr>\n",
       "      <th>202</th>\n",
       "      <td>43.168388</td>\n",
       "      <td>19.675248</td>\n",
       "      <td>16.254732</td>\n",
       "      <td>8.675471</td>\n",
       "      <td>0.486443</td>\n",
       "      <td>11.739719</td>\n",
       "      <td>High</td>\n",
       "    </tr>\n",
       "    <tr>\n",
       "      <th>24</th>\n",
       "      <td>38.132682</td>\n",
       "      <td>16.460684</td>\n",
       "      <td>23.222765</td>\n",
       "      <td>4.908234</td>\n",
       "      <td>7.546725</td>\n",
       "      <td>9.728911</td>\n",
       "      <td>High</td>\n",
       "    </tr>\n",
       "    <tr>\n",
       "      <th>171</th>\n",
       "      <td>0.324929</td>\n",
       "      <td>42.016506</td>\n",
       "      <td>32.193917</td>\n",
       "      <td>1.057642</td>\n",
       "      <td>14.252989</td>\n",
       "      <td>10.154016</td>\n",
       "      <td>High</td>\n",
       "    </tr>\n",
       "    <tr>\n",
       "      <th>165</th>\n",
       "      <td>25.170057</td>\n",
       "      <td>20.395564</td>\n",
       "      <td>32.009414</td>\n",
       "      <td>7.132725</td>\n",
       "      <td>11.457494</td>\n",
       "      <td>3.834746</td>\n",
       "      <td>High</td>\n",
       "    </tr>\n",
       "    <tr>\n",
       "      <th>239</th>\n",
       "      <td>76.400753</td>\n",
       "      <td>4.129466</td>\n",
       "      <td>6.079179</td>\n",
       "      <td>8.434278</td>\n",
       "      <td>1.331982</td>\n",
       "      <td>3.624342</td>\n",
       "      <td>High</td>\n",
       "    </tr>\n",
       "    <tr>\n",
       "      <th>45</th>\n",
       "      <td>8.245536</td>\n",
       "      <td>35.082917</td>\n",
       "      <td>34.266480</td>\n",
       "      <td>2.769201</td>\n",
       "      <td>11.702263</td>\n",
       "      <td>7.933603</td>\n",
       "      <td>High</td>\n",
       "    </tr>\n",
       "    <tr>\n",
       "      <th>12</th>\n",
       "      <td>50.428533</td>\n",
       "      <td>19.588481</td>\n",
       "      <td>18.694843</td>\n",
       "      <td>0.456360</td>\n",
       "      <td>6.171191</td>\n",
       "      <td>4.660592</td>\n",
       "      <td>High</td>\n",
       "    </tr>\n",
       "    <tr>\n",
       "      <th>201</th>\n",
       "      <td>7.111139</td>\n",
       "      <td>22.835258</td>\n",
       "      <td>39.184217</td>\n",
       "      <td>5.628330</td>\n",
       "      <td>22.575171</td>\n",
       "      <td>2.665884</td>\n",
       "      <td>High</td>\n",
       "    </tr>\n",
       "    <tr>\n",
       "      <th>71</th>\n",
       "      <td>28.306792</td>\n",
       "      <td>1.959237</td>\n",
       "      <td>32.564186</td>\n",
       "      <td>8.315149</td>\n",
       "      <td>6.458053</td>\n",
       "      <td>22.396583</td>\n",
       "      <td>High</td>\n",
       "    </tr>\n",
       "    <tr>\n",
       "      <th>163</th>\n",
       "      <td>8.553181</td>\n",
       "      <td>24.318807</td>\n",
       "      <td>41.551975</td>\n",
       "      <td>3.660347</td>\n",
       "      <td>21.225992</td>\n",
       "      <td>0.689698</td>\n",
       "      <td>High</td>\n",
       "    </tr>\n",
       "    <tr>\n",
       "      <th>154</th>\n",
       "      <td>68.805310</td>\n",
       "      <td>6.084071</td>\n",
       "      <td>15.154867</td>\n",
       "      <td>8.296460</td>\n",
       "      <td>0.774336</td>\n",
       "      <td>0.884956</td>\n",
       "      <td>Low</td>\n",
       "    </tr>\n",
       "    <tr>\n",
       "      <th>97</th>\n",
       "      <td>18.674699</td>\n",
       "      <td>11.770158</td>\n",
       "      <td>28.266914</td>\n",
       "      <td>35.866543</td>\n",
       "      <td>2.502317</td>\n",
       "      <td>2.919370</td>\n",
       "      <td>Low</td>\n",
       "    </tr>\n",
       "    <tr>\n",
       "      <th>98</th>\n",
       "      <td>20.315024</td>\n",
       "      <td>4.523425</td>\n",
       "      <td>31.421648</td>\n",
       "      <td>36.147011</td>\n",
       "      <td>2.261712</td>\n",
       "      <td>5.331179</td>\n",
       "      <td>Low</td>\n",
       "    </tr>\n",
       "    <tr>\n",
       "      <th>355</th>\n",
       "      <td>5.451937</td>\n",
       "      <td>20.860832</td>\n",
       "      <td>57.733142</td>\n",
       "      <td>7.030129</td>\n",
       "      <td>5.279770</td>\n",
       "      <td>3.644189</td>\n",
       "      <td>Low</td>\n",
       "    </tr>\n",
       "    <tr>\n",
       "      <th>131</th>\n",
       "      <td>56.327078</td>\n",
       "      <td>15.790885</td>\n",
       "      <td>8.418231</td>\n",
       "      <td>9.276139</td>\n",
       "      <td>1.876676</td>\n",
       "      <td>8.310992</td>\n",
       "      <td>Low</td>\n",
       "    </tr>\n",
       "    <tr>\n",
       "      <th>275</th>\n",
       "      <td>17.662338</td>\n",
       "      <td>41.818182</td>\n",
       "      <td>5.792208</td>\n",
       "      <td>22.389610</td>\n",
       "      <td>2.493506</td>\n",
       "      <td>9.844156</td>\n",
       "      <td>Low</td>\n",
       "    </tr>\n",
       "    <tr>\n",
       "      <th>327</th>\n",
       "      <td>13.126665</td>\n",
       "      <td>21.772826</td>\n",
       "      <td>40.300315</td>\n",
       "      <td>10.026641</td>\n",
       "      <td>2.131267</td>\n",
       "      <td>12.642286</td>\n",
       "      <td>Low</td>\n",
       "    </tr>\n",
       "    <tr>\n",
       "      <th>299</th>\n",
       "      <td>10.581506</td>\n",
       "      <td>20.948522</td>\n",
       "      <td>49.094376</td>\n",
       "      <td>6.291706</td>\n",
       "      <td>6.911344</td>\n",
       "      <td>6.172545</td>\n",
       "      <td>Low</td>\n",
       "    </tr>\n",
       "    <tr>\n",
       "      <th>352</th>\n",
       "      <td>13.938560</td>\n",
       "      <td>25.355342</td>\n",
       "      <td>35.144429</td>\n",
       "      <td>19.027969</td>\n",
       "      <td>2.063274</td>\n",
       "      <td>4.470426</td>\n",
       "      <td>Low</td>\n",
       "    </tr>\n",
       "    <tr>\n",
       "      <th>203</th>\n",
       "      <td>11.837563</td>\n",
       "      <td>13.908629</td>\n",
       "      <td>44.994924</td>\n",
       "      <td>9.522843</td>\n",
       "      <td>19.370558</td>\n",
       "      <td>0.365482</td>\n",
       "      <td>Low</td>\n",
       "    </tr>\n",
       "  </tbody>\n",
       "</table>\n",
       "</div>"
      ],
      "text/plain": [
       "         Fresh       Milk    Grocery     Frozen  Detergents_Paper  \\\n",
       "202  43.168388  19.675248  16.254732   8.675471          0.486443   \n",
       "24   38.132682  16.460684  23.222765   4.908234          7.546725   \n",
       "171   0.324929  42.016506  32.193917   1.057642         14.252989   \n",
       "165  25.170057  20.395564  32.009414   7.132725         11.457494   \n",
       "239  76.400753   4.129466   6.079179   8.434278          1.331982   \n",
       "45    8.245536  35.082917  34.266480   2.769201         11.702263   \n",
       "12   50.428533  19.588481  18.694843   0.456360          6.171191   \n",
       "201   7.111139  22.835258  39.184217   5.628330         22.575171   \n",
       "71   28.306792   1.959237  32.564186   8.315149          6.458053   \n",
       "163   8.553181  24.318807  41.551975   3.660347         21.225992   \n",
       "154  68.805310   6.084071  15.154867   8.296460          0.774336   \n",
       "97   18.674699  11.770158  28.266914  35.866543          2.502317   \n",
       "98   20.315024   4.523425  31.421648  36.147011          2.261712   \n",
       "355   5.451937  20.860832  57.733142   7.030129          5.279770   \n",
       "131  56.327078  15.790885   8.418231   9.276139          1.876676   \n",
       "275  17.662338  41.818182   5.792208  22.389610          2.493506   \n",
       "327  13.126665  21.772826  40.300315  10.026641          2.131267   \n",
       "299  10.581506  20.948522  49.094376   6.291706          6.911344   \n",
       "352  13.938560  25.355342  35.144429  19.027969          2.063274   \n",
       "203  11.837563  13.908629  44.994924   9.522843         19.370558   \n",
       "\n",
       "     Delicatessen Spending  \n",
       "202     11.739719     High  \n",
       "24       9.728911     High  \n",
       "171     10.154016     High  \n",
       "165      3.834746     High  \n",
       "239      3.624342     High  \n",
       "45       7.933603     High  \n",
       "12       4.660592     High  \n",
       "201      2.665884     High  \n",
       "71      22.396583     High  \n",
       "163      0.689698     High  \n",
       "154      0.884956      Low  \n",
       "97       2.919370      Low  \n",
       "98       5.331179      Low  \n",
       "355      3.644189      Low  \n",
       "131      8.310992      Low  \n",
       "275      9.844156      Low  \n",
       "327     12.642286      Low  \n",
       "299      6.172545      Low  \n",
       "352      4.470426      Low  \n",
       "203      0.365482      Low  "
      ]
     },
     "execution_count": 16,
     "metadata": {},
     "output_type": "execute_result"
    }
   ],
   "source": [
    "# Merge 10 highest and 10 lowest to high_and_low dataset\n",
    "high_and_low = pd.concat([high_a.head(10), lowest_a.head(10)])\n",
    "high_and_low['Fresh'] = high_and_low.Fresh.astype(float)\n",
    "high_and_low['Milk'] = high_and_low.Milk.astype(float)\n",
    "high_and_low['Grocery'] = high_and_low.Grocery.astype(float)\n",
    "high_and_low['Frozen'] = high_and_low.Frozen.astype(float)\n",
    "high_and_low['Detergents_Paper'] = high_and_low.Detergents_Paper.astype(float)\n",
    "high_and_low['Delicatessen'] = high_and_low.Delicatessen.astype(float)\n",
    "high_and_low"
   ]
  },
  {
   "cell_type": "code",
   "execution_count": 17,
   "metadata": {},
   "outputs": [
    {
     "name": "stderr",
     "output_type": "stream",
     "text": [
      "No handles with labels found to put in legend.\n"
     ]
    },
    {
     "data": {
      "text/plain": [
       "Text(0.5, 1.0, 'Delicatessen')"
      ]
     },
     "execution_count": 17,
     "metadata": {},
     "output_type": "execute_result"
    },
    {
     "data": {
      "image/png": "[encoded data removed]",
      "text/plain": [
       "<Figure size 864x576 with 6 Axes>"
      ]
     },
     "metadata": {
      "needs_background": "light"
     },
     "output_type": "display_data"
    }
   ],
   "source": [
    "# Use boxplot with param: by='Spending', figsize=(12, 8), layout=(2, 3)\n",
    "# Your code here\n",
    "fig, axes = plt.subplots(sharey=True, ncols=3, nrows=2, figsize=(12,8))\n",
    "plt.legend()\n",
    "sns.boxplot(y = 'Fresh',data = high_and_low, x ='Spending', ax=axes[0,0], color='g').set_title('Fresh')\n",
    "sns.boxplot(y = 'Milk',data = high_and_low, x ='Spending', ax=axes[0,1], color='r').set_title('Milk')\n",
    "sns.boxplot(y = 'Grocery',data = high_and_low, x ='Spending', ax=axes[0,2], color='y').set_title('Grocery')\n",
    "sns.boxplot(y = 'Frozen',data = high_and_low, x ='Spending', ax=axes[1,0], color='g').set_title('Frozen')\n",
    "sns.boxplot(y = 'Detergents_Paper',data = high_and_low, x ='Spending', ax=axes[1,1], color='r').set_title('FreDetergents_Papersh')\n",
    "sns.boxplot(y = 'Delicatessen',data = high_and_low, x ='Spending', ax=axes[1,2], color='y').set_title('Delicatessen')"
   ]
  },
  {
   "cell_type": "markdown",
   "metadata": {},
   "source": [
    "The main difference between purchasing habits in groups appears on variables **Frozen, Detergents_Paper and Delicatessen**. Clients that spend more tend to buy more (relatively speaking) on Detergents and Paper and less on Frozen Goods and Delicatessen than clients spending less."
   ]
  },
  {
   "cell_type": "markdown",
   "metadata": {},
   "source": [
    "## PCA"
   ]
  },
  {
   "cell_type": "markdown",
   "metadata": {},
   "source": [
    "**Normalization** is important in **PCA** since it is a variance maximizing exercise. It projects your original data onto directions which maximize the variance. So we need to scale our data first."
   ]
  },
  {
   "cell_type": "code",
   "execution_count": 18,
   "metadata": {},
   "outputs": [
    {
     "name": "stderr",
     "output_type": "stream",
     "text": [
      "E:\\Anaconda3\\lib\\site-packages\\ipykernel_launcher.py:5: DataConversionWarning: Data with input dtype int64 were all converted to float64 by the scale function.\n",
      "  \"\"\"\n"
     ]
    },
    {
     "data": {
      "text/html": [
       "<div>\n",
       "<style scoped>\n",
       "    .dataframe tbody tr th:only-of-type {\n",
       "        vertical-align: middle;\n",
       "    }\n",
       "\n",
       "    .dataframe tbody tr th {\n",
       "        vertical-align: top;\n",
       "    }\n",
       "\n",
       "    .dataframe thead th {\n",
       "        text-align: right;\n",
       "    }\n",
       "</style>\n",
       "<table border=\"1\" class=\"dataframe\">\n",
       "  <thead>\n",
       "    <tr style=\"text-align: right;\">\n",
       "      <th></th>\n",
       "      <th>Fresh</th>\n",
       "      <th>Milk</th>\n",
       "      <th>Grocery</th>\n",
       "      <th>Frozen</th>\n",
       "      <th>Detergents_Paper</th>\n",
       "      <th>Delicatessen</th>\n",
       "      <th>Total</th>\n",
       "    </tr>\n",
       "  </thead>\n",
       "  <tbody>\n",
       "    <tr>\n",
       "      <th>154</th>\n",
       "      <td>-0.900684</td>\n",
       "      <td>-0.778795</td>\n",
       "      <td>-0.823218</td>\n",
       "      <td>-0.618032</td>\n",
       "      <td>-0.603577</td>\n",
       "      <td>-0.538489</td>\n",
       "      <td>-1.227749</td>\n",
       "    </tr>\n",
       "    <tr>\n",
       "      <th>97</th>\n",
       "      <td>-0.918020</td>\n",
       "      <td>-0.751801</td>\n",
       "      <td>-0.773388</td>\n",
       "      <td>-0.473883</td>\n",
       "      <td>-0.593708</td>\n",
       "      <td>-0.518964</td>\n",
       "      <td>-1.180116</td>\n",
       "    </tr>\n",
       "    <tr>\n",
       "      <th>98</th>\n",
       "      <td>-0.910104</td>\n",
       "      <td>-0.771063</td>\n",
       "      <td>-0.755690</td>\n",
       "      <td>-0.448930</td>\n",
       "      <td>-0.593288</td>\n",
       "      <td>-0.494469</td>\n",
       "      <td>-1.168037</td>\n",
       "    </tr>\n",
       "    <tr>\n",
       "      <th>355</th>\n",
       "      <td>-0.934881</td>\n",
       "      <td>-0.687639</td>\n",
       "      <td>-0.625690</td>\n",
       "      <td>-0.582974</td>\n",
       "      <td>-0.566411</td>\n",
       "      <td>-0.496244</td>\n",
       "      <td>-1.129711</td>\n",
       "    </tr>\n",
       "    <tr>\n",
       "      <th>131</th>\n",
       "      <td>-0.783609</td>\n",
       "      <td>-0.706359</td>\n",
       "      <td>-0.804571</td>\n",
       "      <td>-0.562146</td>\n",
       "      <td>-0.590348</td>\n",
       "      <td>-0.431279</td>\n",
       "      <td>-1.120404</td>\n",
       "    </tr>\n",
       "  </tbody>\n",
       "</table>\n",
       "</div>"
      ],
      "text/plain": [
       "        Fresh      Milk   Grocery    Frozen  Detergents_Paper  Delicatessen  \\\n",
       "154 -0.900684 -0.778795 -0.823218 -0.618032         -0.603577     -0.538489   \n",
       "97  -0.918020 -0.751801 -0.773388 -0.473883         -0.593708     -0.518964   \n",
       "98  -0.910104 -0.771063 -0.755690 -0.448930         -0.593288     -0.494469   \n",
       "355 -0.934881 -0.687639 -0.625690 -0.582974         -0.566411     -0.496244   \n",
       "131 -0.783609 -0.706359 -0.804571 -0.562146         -0.590348     -0.431279   \n",
       "\n",
       "        Total  \n",
       "154 -1.227749  \n",
       "97  -1.180116  \n",
       "98  -1.168037  \n",
       "355 -1.129711  \n",
       "131 -1.120404  "
      ]
     },
     "execution_count": 18,
     "metadata": {},
     "output_type": "execute_result"
    }
   ],
   "source": [
    "# Import scale from sklearn.preprocessing\n",
    "from sklearn.preprocessing import scale\n",
    "\n",
    "# Scale data and called it as X\n",
    "X = pd.DataFrame(scale(data), index=data.index, columns=data.columns)\n",
    "X.head()"
   ]
  },
  {
   "cell_type": "code",
   "execution_count": 19,
   "metadata": {},
   "outputs": [
    {
     "data": {
      "text/plain": [
       "PCA(copy=True, iterated_power='auto', n_components=6, random_state=None,\n",
       "  svd_solver='auto', tol=0.0, whiten=False)"
      ]
     },
     "execution_count": 19,
     "metadata": {},
     "output_type": "execute_result"
    }
   ],
   "source": [
    "# Import PCA\n",
    "# Your code here\n",
    "from sklearn.decomposition import PCA\n",
    "\n",
    "# Apply PCA by fitting the scaled data with the same number of dimensions as features\n",
    "pca = PCA(n_components=6)\n",
    "pca.fit(X)"
   ]
  },
  {
   "cell_type": "code",
   "execution_count": 20,
   "metadata": {},
   "outputs": [],
   "source": [
    "# pca_loadings\n",
    "pca_loadings = pd.DataFrame(pca.components_.T, index=X.columns,\n",
    "                            columns=['V1', 'V2', 'V3', 'V4', 'V5', 'V6'])\n",
    "\n",
    "# Transform X using the PCA fit above\n",
    "pca_data = pd.DataFrame(pca.fit_transform(X),\n",
    "                        columns=['PC1', 'PC2', 'PC3', 'PC4', 'PC5', 'PC6'],\n",
    "                        index=X.index)"
   ]
  },
  {
   "cell_type": "markdown",
   "metadata": {},
   "source": [
    "### Analyzing PCA Samples"
   ]
  },
  {
   "cell_type": "markdown",
   "metadata": {},
   "source": [
    "### Visualizing a Biplot"
   ]
  },
  {
   "cell_type": "code",
   "execution_count": 21,
   "metadata": {},
   "outputs": [],
   "source": [
    "def biplot(origin_data, reduced_data, pca):\n",
    "    '''\n",
    "    Produce a biplot that shows a scatterplot of the reduced\n",
    "    data and the projections of the original features.\n",
    "    \n",
    "    origin_data: original data, before transformation.\n",
    "               Needs to be a pandas dataframe with valid column names\n",
    "    reduced_data: the reduced data (the first two dimensions are plotted)\n",
    "    pca: pca object that contains the components_ attribute\n",
    "\n",
    "    return: a matplotlib AxesSubplot object (for any additional customization)\n",
    "    \n",
    "    This procedure is inspired by the script:\n",
    "    https://github.com/teddyroland/python-biplot\n",
    "    '''\n",
    "\n",
    "    fig, ax = plt.subplots(figsize = (14,8))\n",
    "    # scatterplot of the reduced data    \n",
    "    ax.scatter(x=reduced_data.loc[:, 'PC1'], y=reduced_data.loc[:, 'PC2'], \n",
    "        facecolors='b', edgecolors='b', s=70, alpha=0.5)\n",
    "    \n",
    "    feature_vectors = pca.components_.T\n",
    "\n",
    "    # we use scaling factors to make the arrows easier to see\n",
    "    arrow_size, text_pos = 7.0, 8.0,\n",
    "\n",
    "    # projections of the original features\n",
    "    for i, v in enumerate(feature_vectors):\n",
    "        ax.arrow(0, 0, arrow_size*v[0], arrow_size*v[1], \n",
    "                  head_width=0.2, head_length=0.2, linewidth=2, color='red')\n",
    "        ax.text(v[0]*text_pos, v[1]*text_pos, origin_data.columns[i], color='black', \n",
    "                 ha='center', va='center', fontsize=18)\n",
    "\n",
    "    ax.set_xlabel(\"Dimension 1\", fontsize=14)\n",
    "    ax.set_ylabel(\"Dimension 2\", fontsize=14)\n",
    "    ax.set_title(\"PC plane with original feature projections.\", fontsize=16);\n",
    "    return ax"
   ]
  },
  {
   "cell_type": "code",
   "execution_count": 22,
   "metadata": {},
   "outputs": [
    {
     "data": {
      "text/plain": [
       "<matplotlib.axes._subplots.AxesSubplot at 0xe4b7f2eb00>"
      ]
     },
     "execution_count": 22,
     "metadata": {},
     "output_type": "execute_result"
    },
    {
     "data": {
      "image/png": "[encoded data removed]",
      "text/plain": [
       "<Figure size 1008x576 with 1 Axes>"
      ]
     },
     "metadata": {
      "needs_background": "light"
     },
     "output_type": "display_data"
    }
   ],
   "source": [
    "biplot(X, pca_data, pca)"
   ]
  },
  {
   "cell_type": "code",
   "execution_count": 23,
   "metadata": {},
   "outputs": [],
   "source": [
    "# Using provided biplot function to make a biplot\n",
    "# Your code here\n"
   ]
  },
  {
   "cell_type": "markdown",
   "metadata": {},
   "source": [
    "### Choosing the number of components\n",
    "A vital part of using PCA in practice is the ability to estimate how many components are needed to describe the data. This can be determined by looking at the cumulative explained variance ratio as a function of the number of components:"
   ]
  },
  {
   "cell_type": "code",
   "execution_count": 23,
   "metadata": {},
   "outputs": [
    {
     "data": {
      "image/png": "[encoded data removed]",
      "text/plain": [
       "<Figure size 1152x648 with 1 Axes>"
      ]
     },
     "metadata": {},
     "output_type": "display_data"
    }
   ],
   "source": [
    "# Your code here\n",
    "pca = PCA().fit(X)\n",
    "sns.set_style('whitegrid')\n",
    "plt.figure(figsize=(16, 9))\n",
    "plt.plot(np.cumsum(pca.explained_variance_ratio_))\n",
    "plt.xlabel('number of components')\n",
    "plt.ylabel('cumulative explained variance');"
   ]
  },
  {
   "cell_type": "markdown",
   "metadata": {},
   "source": [
    "## Clustering"
   ]
  },
  {
   "cell_type": "markdown",
   "metadata": {},
   "source": [
    "### K-Means"
   ]
  },
  {
   "cell_type": "markdown",
   "metadata": {},
   "source": [
    "To use K-Means algorithms we need to define K value first. One way to choose K value, we use elbow algorithms"
   ]
  },
  {
   "cell_type": "code",
   "execution_count": 24,
   "metadata": {},
   "outputs": [
    {
     "data": {
      "text/html": [
       "<div>\n",
       "<style scoped>\n",
       "    .dataframe tbody tr th:only-of-type {\n",
       "        vertical-align: middle;\n",
       "    }\n",
       "\n",
       "    .dataframe tbody tr th {\n",
       "        vertical-align: top;\n",
       "    }\n",
       "\n",
       "    .dataframe thead th {\n",
       "        text-align: right;\n",
       "    }\n",
       "</style>\n",
       "<table border=\"1\" class=\"dataframe\">\n",
       "  <thead>\n",
       "    <tr style=\"text-align: right;\">\n",
       "      <th></th>\n",
       "      <th>Fresh</th>\n",
       "      <th>Milk</th>\n",
       "      <th>Grocery</th>\n",
       "      <th>Frozen</th>\n",
       "      <th>Detergents_Paper</th>\n",
       "      <th>Delicatessen</th>\n",
       "      <th>Total</th>\n",
       "    </tr>\n",
       "  </thead>\n",
       "  <tbody>\n",
       "    <tr>\n",
       "      <th>154</th>\n",
       "      <td>622</td>\n",
       "      <td>55</td>\n",
       "      <td>137</td>\n",
       "      <td>75</td>\n",
       "      <td>7</td>\n",
       "      <td>8</td>\n",
       "      <td>904</td>\n",
       "    </tr>\n",
       "    <tr>\n",
       "      <th>97</th>\n",
       "      <td>403</td>\n",
       "      <td>254</td>\n",
       "      <td>610</td>\n",
       "      <td>774</td>\n",
       "      <td>54</td>\n",
       "      <td>63</td>\n",
       "      <td>2158</td>\n",
       "    </tr>\n",
       "    <tr>\n",
       "      <th>98</th>\n",
       "      <td>503</td>\n",
       "      <td>112</td>\n",
       "      <td>778</td>\n",
       "      <td>895</td>\n",
       "      <td>56</td>\n",
       "      <td>132</td>\n",
       "      <td>2476</td>\n",
       "    </tr>\n",
       "    <tr>\n",
       "      <th>355</th>\n",
       "      <td>190</td>\n",
       "      <td>727</td>\n",
       "      <td>2012</td>\n",
       "      <td>245</td>\n",
       "      <td>184</td>\n",
       "      <td>127</td>\n",
       "      <td>3485</td>\n",
       "    </tr>\n",
       "    <tr>\n",
       "      <th>131</th>\n",
       "      <td>2101</td>\n",
       "      <td>589</td>\n",
       "      <td>314</td>\n",
       "      <td>346</td>\n",
       "      <td>70</td>\n",
       "      <td>310</td>\n",
       "      <td>3730</td>\n",
       "    </tr>\n",
       "  </tbody>\n",
       "</table>\n",
       "</div>"
      ],
      "text/plain": [
       "     Fresh  Milk  Grocery  Frozen  Detergents_Paper  Delicatessen  Total\n",
       "154    622    55      137      75                 7             8    904\n",
       "97     403   254      610     774                54            63   2158\n",
       "98     503   112      778     895                56           132   2476\n",
       "355    190   727     2012     245               184           127   3485\n",
       "131   2101   589      314     346                70           310   3730"
      ]
     },
     "execution_count": 24,
     "metadata": {},
     "output_type": "execute_result"
    }
   ],
   "source": [
    "data.head(5)"
   ]
  },
  {
   "cell_type": "code",
   "execution_count": 50,
   "metadata": {
    "scrolled": true
   },
   "outputs": [],
   "source": [
    "# Import KMeans from sklearn\n",
    "# Your code here\n",
    "from sklearn.cluster import KMeans\n",
    "\n",
    "# Choose the range of k value we want to test (1 - 20)\n",
    "k_values = range(1,20)\n",
    "\n",
    "# For each value of K, we create a KMeans model and save in k_mean_models\n",
    "k_mean_models = [KMeans(n_clusters=k) for k in k_values]\n",
    "\n",
    "\n",
    "# For each Models, we fit with scaled data and calculate score\n",
    "scores = [kmean.fit(X).score(X) for kmean in k_mean_models]\n"
   ]
  },
  {
   "cell_type": "code",
   "execution_count": 51,
   "metadata": {},
   "outputs": [
    {
     "data": {
      "image/png": "[encoded data removed]",
      "text/plain": [
       "<Figure size 432x288 with 1 Axes>"
      ]
     },
     "metadata": {},
     "output_type": "display_data"
    }
   ],
   "source": [
    "norm_scores = [score/max(scores) for score in scores]\n",
    "\n",
    "plt.plot(k_values, norm_scores, '-o')\n",
    "plt.xlabel('k')\n",
    "plt.ylabel('score');"
   ]
  },
  {
   "cell_type": "markdown",
   "metadata": {},
   "source": [
    "### Hierarchical"
   ]
  },
  {
   "cell_type": "code",
   "execution_count": 25,
   "metadata": {},
   "outputs": [],
   "source": [
    "# Import dendrogram, linkage from scipy.cluster.hierarchy\n",
    "# Your code here\n",
    "from scipy.cluster.hierarchy import dendrogram, linkage\n"
   ]
  },
  {
   "cell_type": "code",
   "execution_count": 26,
   "metadata": {},
   "outputs": [],
   "source": [
    "# generate the linkage matrix\n",
    "# Your code here\n",
    "Z = linkage(X, 'ward')"
   ]
  },
  {
   "cell_type": "code",
   "execution_count": 27,
   "metadata": {},
   "outputs": [
    {
     "data": {
      "text/plain": [
       "<function matplotlib.pyplot.show(*args, **kw)>"
      ]
     },
     "execution_count": 27,
     "metadata": {},
     "output_type": "execute_result"
    },
    {
     "data": {
      "image/png": "[encoded data removed]",
      "text/plain": [
       "<Figure size 1440x720 with 1 Axes>"
      ]
     },
     "metadata": {},
     "output_type": "display_data"
    }
   ],
   "source": [
    "# calculate full dendrogram\n",
    "# Hint: refer to lecture notebook\n",
    "# Your code here\n",
    "fig = plt.figure(figsize=(20,10))\n",
    "plt.title('Hierachical Clustering Dendrogram', fontsize = 60)\n",
    "plt.xlabel('Index', fontsize=50)\n",
    "plt.ylabel('Distance', fontsize=50)\n",
    "plt.xticks(fontsize=40)\n",
    "plt.yticks(fontsize=40)\n",
    "\n",
    "ax = dendrogram(\n",
    "    Z,\n",
    "    leaf_font_size=5.,\n",
    "    leaf_rotation=0.,\n",
    "    labels=range(len(X)),\n",
    ")\n",
    "plt.show"
   ]
  },
  {
   "cell_type": "code",
   "execution_count": 29,
   "metadata": {},
   "outputs": [],
   "source": [
    "# To apply hierarchical in product, we use AgglomerativeClustering\n",
    "# in sklearn package instead of scipy\n",
    "# so import it first\n",
    "# Your code here\n",
    "from sklearn.cluster import AgglomerativeClustering\n",
    " \n",
    "# Create AgglomerativeClustering model with n_clusters equals to the number of cluster\n",
    "# you think it's the best one\n",
    "cluster = AgglomerativeClustering(n_clusters=4, affinity='euclidean', linkage='ward')\n",
    "\n",
    "# fit model with scaled data\n",
    "# Your code here\n",
    "y_cluster = cluster.fit_predict(X)"
   ]
  },
  {
   "cell_type": "code",
   "execution_count": 42,
   "metadata": {},
   "outputs": [],
   "source": [
    "Test = X.iloc[:,[0,1]].values"
   ]
  },
  {
   "cell_type": "code",
   "execution_count": 47,
   "metadata": {},
   "outputs": [
    {
     "data": {
      "text/plain": [
       "<function matplotlib.pyplot.show(*args, **kw)>"
      ]
     },
     "execution_count": 47,
     "metadata": {},
     "output_type": "execute_result"
    },
    {
     "data": {
      "image/png": "[encoded data removed]",
      "text/plain": [
       "<Figure size 1440x720 with 1 Axes>"
      ]
     },
     "metadata": {},
     "output_type": "display_data"
    }
   ],
   "source": [
    "fig = plt.figure(figsize=(20,10))\n",
    "c = ['red', 'blue', 'black', 'yellow']\n",
    "for i in range(4):\n",
    "    plt.scatter(Test[y_cluster==i,0], Test[y_cluster==i,1],s = 100, c = c[i], label=f'Cluster {i}')\n",
    "plt.title('Cluster of Customer', fontsize=60)\n",
    "plt.xlabel('Fresh', fontsize=30)\n",
    "plt.ylabel('Milk', fontsize=30)\n",
    "plt.xticks(fontsize=20)\n",
    "plt.yticks(fontsize=20)\n",
    "plt.legend(fontsize=15)\n",
    "plt.show"
   ]
  },
  {
   "cell_type": "code",
   "execution_count": 48,
   "metadata": {},
   "outputs": [],
   "source": [
    "Test1 = high_and_low.iloc[:,[0,1]].values"
   ]
  },
  {
   "cell_type": "code",
   "execution_count": 39,
   "metadata": {},
   "outputs": [
    {
     "data": {
      "text/plain": [
       "<function matplotlib.pyplot.show(*args, **kw)>"
      ]
     },
     "execution_count": 39,
     "metadata": {},
     "output_type": "execute_result"
    },
    {
     "data": {
      "image/png": "[encoded data removed]",
      "text/plain": [
       "<Figure size 1440x720 with 1 Axes>"
      ]
     },
     "metadata": {},
     "output_type": "display_data"
    }
   ],
   "source": [
    "# Plot out result using scatter using the first 2 components of PCA\n",
    "# Your code here\n",
    "projected = pca.fit_transform(pca_data)\n",
    "plt.figure(figsize=(20,10))\n",
    "plt.scatter(\n",
    "    projected[:,0],\n",
    "    projected[:,1],\n",
    "    edgecolors='none',\n",
    "    alpha=0.5,\n",
    "    cmap=plt.cm.get_cmap('viridis', 10)\n",
    ")\n",
    "plt.xlabel('PC1')\n",
    "plt.ylabel('PC2')\n",
    "plt.show"
   ]
  },
  {
   "cell_type": "markdown",
   "metadata": {},
   "source": [
    "## Great job!!!"
   ]
  }
 ],
 "metadata": {
  "kernelspec": {
   "display_name": "Python 3",
   "language": "python",
   "name": "python3"
  },
  "language_info": {
   "codemirror_mode": {
    "name": "ipython",
    "version": 3
   },
   "file_extension": ".py",
   "mimetype": "text/x-python",
   "name": "python",
   "nbconvert_exporter": "python",
   "pygments_lexer": "ipython3",
   "version": "3.7.1"
  }
 },
 "nbformat": 4,
 "nbformat_minor": 2
}
